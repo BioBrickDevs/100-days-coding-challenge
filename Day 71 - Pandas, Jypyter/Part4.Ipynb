{
 "cells": [
  {
   "cell_type": "code",
   "execution_count": null,
   "metadata": {},
   "outputs": [],
   "source": [
    "import pandas\n",
    "dataframe = pandas.read_csv(\"salaries_by_college_major.csv\")\n",
    "clean_dataframe = dataframe.dropna()\n",
    "\n",
    "clean_dataframe.groupby(\"Group\").count()\n"
   ]
  },
  {
   "cell_type": "code",
   "execution_count": null,
   "metadata": {},
   "outputs": [],
   "source": [
    "pandas.options.display.float_format = '{:,.2f}'.format \n",
    "clean_dataframe.groupby(\"Group\").mean()\n"
   ]
  },
  {
   "cell_type": "code",
   "execution_count": null,
   "metadata": {},
   "outputs": [],
   "source": []
  }
 ],
 "metadata": {
  "kernelspec": {
   "display_name": "base",
   "language": "python",
   "name": "python3"
  },
  "language_info": {
   "codemirror_mode": {
    "name": "ipython",
    "version": 3
   },
   "file_extension": ".py",
   "mimetype": "text/x-python",
   "name": "python",
   "nbconvert_exporter": "python",
   "pygments_lexer": "ipython3",
   "version": "3.9.13 (main, Aug 25 2022, 23:26:10) \n[GCC 11.2.0]"
  },
  "orig_nbformat": 4,
  "vscode": {
   "interpreter": {
    "hash": "65a0d40a3e018ef6d51eeeff05afa1037ab2d580830aa8e9620b7f2b4a76319b"
   }
  }
 },
 "nbformat": 4,
 "nbformat_minor": 2
}
